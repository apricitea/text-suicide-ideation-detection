{
 "cells": [
  {
   "cell_type": "code",
   "execution_count": null,
   "id": "bafe6aad",
   "metadata": {},
   "outputs": [],
   "source": [
    "import os\n",
    "import pandas as pd\n",
    "import csv\n",
    "import tweepy\n",
    "from langdetect import detect"
   ]
  },
  {
   "cell_type": "code",
   "execution_count": null,
   "id": "517c5e07",
   "metadata": {},
   "outputs": [],
   "source": [
    "# Access API credentials from the environment\n",
    "with open('D:/gpt/text_suicide_detection/text_suicide_detection/api_access.env') as file:\n",
    "    for line in file:\n",
    "        if line.startswith('#') or not line.strip():\n",
    "            continue\n",
    "        key, value = line.strip().split('=', 1)\n",
    "        os.environ[key] = value\n",
    "\n",
    "consumer_key        = os.getenv('consumer_key')\n",
    "consumer_secret     = os.getenv('consumer_secret')\n",
    "access_token        = os.getenv('access_token')\n",
    "access_token_secret = os.getenv('access_token_secret')\n",
    "\n",
    "# Authenticate Twitter API\n",
    "auth = tweepy.OAuthHandler(consumer_key, consumer_secret)\n",
    "auth.set_access_token(access_token, access_token_secret)\n",
    "\n",
    "api = tweepy.API(auth,  wait_on_rate_limit=True)"
   ]
  },
  {
   "cell_type": "code",
   "execution_count": null,
   "id": "81e7ab76",
   "metadata": {},
   "outputs": [],
   "source": [
    "def fetch_tweets(query, count):\n",
    "    # Initialize an empty list to store tweets\n",
    "    tweets = []\n",
    "\n",
    "    # Using Tweepy Cursor to fetch tweets\n",
    "    for tweet in tweepy.Cursor(api.search_tweets, q=query, lang=\"id\", tweet_mode=\"extended\", result_type=\"mixed\").items(count):\n",
    "        tweets.append(tweet._json)\n",
    "\n",
    "    # Create a DataFrame from the collected tweets\n",
    "    df = pd.DataFrame(data=[tweet[\"full_text\"] for tweet in tweets], columns=['tweets'])\n",
    "\n",
    "    return df\n",
    "\n",
    "# Example usage\n",
    "query = \"shock OR cape OR lelah OR putus asa -filter:retweets\"\n",
    "count = 100  # Specify the number of tweets you want to fetch\n",
    "df = fetch_tweets(query, count)"
   ]
  },
  {
   "cell_type": "code",
   "execution_count": null,
   "id": "2364050b",
   "metadata": {},
   "outputs": [],
   "source": [
    "def remove_non_indonesian(df, column_name):\n",
    "    # Ensure that the column exists in the DataFrame\n",
    "    if column_name not in df.columns:\n",
    "        raise ValueError(f\"Column '{column_name}' not found in DataFrame\")\n",
    "\n",
    "    # Detect language and filter in one step for efficiency\n",
    "    is_indonesian = df[column_name].apply(langdetect.detect).eq('id')\n",
    "\n",
    "    # Return the filtered DataFrame, keeping only the original columns\n",
    "    return df[is_indonesian]\n",
    "\n",
    "df['tweets'] = df['tweets'].astype(str)\n",
    "df = remove_non_indonesian(df, 'tweets')"
   ]
  },
  {
   "cell_type": "code",
   "execution_count": null,
   "id": "7bc3e8b8",
   "metadata": {},
   "outputs": [],
   "source": [
    "# Export dataframe to csv\n",
    "df.to_csv(\"crawled_tweets.csv\", quoting=csv.QUOTE_NONNUMERIC, index=False)"
   ]
  }
 ],
 "metadata": {
  "kernelspec": {
   "display_name": "Python 3 (ipykernel)",
   "language": "python",
   "name": "python3"
  },
  "language_info": {
   "codemirror_mode": {
    "name": "ipython",
    "version": 3
   },
   "file_extension": ".py",
   "mimetype": "text/x-python",
   "name": "python",
   "nbconvert_exporter": "python",
   "pygments_lexer": "ipython3",
   "version": "3.9.13"
  }
 },
 "nbformat": 4,
 "nbformat_minor": 5
}
