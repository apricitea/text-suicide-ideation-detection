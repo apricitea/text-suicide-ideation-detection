{
 "cells": [
  {
   "cell_type": "code",
   "execution_count": 1,
   "id": "19de4cdd",
   "metadata": {},
   "outputs": [],
   "source": [
    "import pandas as pd\n",
    "import re\n",
    "from langdetect import detect\n",
    "from Sastrawi.StopWordRemover.StopWordRemoverFactory import StopWordRemoverFactory\n",
    "from hunspell import Hunspell"
   ]
  },
  {
   "cell_type": "code",
   "execution_count": 2,
   "id": "b61bd01d",
   "metadata": {},
   "outputs": [],
   "source": [
    "# Load data\n",
    "df = pd.read_excel(\"F:/Github/text_suicide_detection/data/final_dataset.xlsx\", sheet_name=\"10k\")"
   ]
  },
  {
   "cell_type": "code",
   "execution_count": 3,
   "id": "86f14842",
   "metadata": {},
   "outputs": [
    {
     "data": {
      "text/html": [
       "<div>\n",
       "<style scoped>\n",
       "    .dataframe tbody tr th:only-of-type {\n",
       "        vertical-align: middle;\n",
       "    }\n",
       "\n",
       "    .dataframe tbody tr th {\n",
       "        vertical-align: top;\n",
       "    }\n",
       "\n",
       "    .dataframe thead th {\n",
       "        text-align: right;\n",
       "    }\n",
       "</style>\n",
       "<table border=\"1\" class=\"dataframe\">\n",
       "  <thead>\n",
       "    <tr style=\"text-align: right;\">\n",
       "      <th></th>\n",
       "      <th>index</th>\n",
       "      <th>tweet</th>\n",
       "      <th>label</th>\n",
       "    </tr>\n",
       "  </thead>\n",
       "  <tbody>\n",
       "    <tr>\n",
       "      <th>0</th>\n",
       "      <td>1</td>\n",
       "      <td>suasana batin ngerasa tertekan banget ðŸ˜”</td>\n",
       "      <td>0</td>\n",
       "    </tr>\n",
       "    <tr>\n",
       "      <th>1</th>\n",
       "      <td>2</td>\n",
       "      <td>@camareily__ KAMU MAU NGAPAIN WOI PLS JANGAN B...</td>\n",
       "      <td>0</td>\n",
       "    </tr>\n",
       "    <tr>\n",
       "      <th>2</th>\n",
       "      <td>3</td>\n",
       "      <td>Mau bunuh diri masih juga ngerepotin https://t...</td>\n",
       "      <td>0</td>\n",
       "    </tr>\n",
       "  </tbody>\n",
       "</table>\n",
       "</div>"
      ],
      "text/plain": [
       "   index                                              tweet  label\n",
       "0      1         suasana batin ngerasa tertekan banget ðŸ˜”      0\n",
       "1      2  @camareily__ KAMU MAU NGAPAIN WOI PLS JANGAN B...      0\n",
       "2      3  Mau bunuh diri masih juga ngerepotin https://t...      0"
      ]
     },
     "execution_count": 3,
     "metadata": {},
     "output_type": "execute_result"
    }
   ],
   "source": [
    "df.head(3)"
   ]
  },
  {
   "cell_type": "markdown",
   "id": "8097e218",
   "metadata": {},
   "source": [
    "# Preprocessing"
   ]
  },
  {
   "cell_type": "code",
   "execution_count": 4,
   "id": "51b51874",
   "metadata": {},
   "outputs": [],
   "source": [
    "def case_folding(df, column_name):\n",
    "    df[column_name] = df[column_name].str.lower()\n",
    "    return df\n",
    "\n",
    "def remove_punctuation_and_sc(df, column_name):\n",
    "    df[column_name] = df[column_name].str.replace(r'[^a-zA-Z0-9\\s]', '', regex=True)\n",
    "    return df\n",
    "\n",
    "def remove_punctuation(df, column_name):\n",
    "    df[column_name] = df[column_name].str.replace(r'[^\\w\\s]', '', regex=True)\n",
    "    return df\n",
    "\n",
    "def remove_specialchar(df, column_name):\n",
    "    df[column_name] = df[column_name].apply(lambda text: re.sub(r'[^\\x00-\\x7F]+', '', text))\n",
    "    return df\n",
    "\n",
    "def remove_redundant_whitespace(df, column_name):\n",
    "    df[column_name] = df[column_name].str.replace(r'\\s+', ' ', regex=False).str.strip()\n",
    "    return df\n",
    "\n",
    "def remove_mentions_hashtags(df, column_name):\n",
    "    df[column_name] = df[column_name].apply(lambda x: re.sub(r'@\\w+|\\#\\w+', '', x))\n",
    "    return df\n",
    "\n",
    "def remove_hyperlink(df, column_name):\n",
    "    df[column_name] = df[column_name].apply(lambda x: re.sub(r'http\\S+', '', x))\n",
    "    return df"
   ]
  },
  {
   "cell_type": "code",
   "execution_count": 5,
   "id": "ab12d136",
   "metadata": {},
   "outputs": [],
   "source": [
    "stopwords_sastrawi = StopWordRemoverFactory().get_stop_words()\n",
    "\n",
    "def remove_stopwords(df, column_name):\n",
    "    df[column_name] = df[column_name].apply(lambda text: ' '.join([word for word in text.split() if word not in stopwords_sastrawi]))\n",
    "    return df"
   ]
  },
  {
   "cell_type": "code",
   "execution_count": 7,
   "id": "19f4683d",
   "metadata": {},
   "outputs": [],
   "source": [
    "hunspell = Hunspell('F:/Github/text_suicide_detection/hunspell-id-main/id_ID', 'F:/Github/text_suicide_detection/hunspell-id-main/id_ID')\n",
    "\n",
    "def stem_word_hunspell(word):\n",
    "    try:\n",
    "        stems = hunspell.stem(word)\n",
    "    except UnicodeEncodeError:\n",
    "        stems = [word]\n",
    "    return stems[0] if stems else word\n",
    "\n",
    "def stemming(df, column_name):\n",
    "    df[column_name] = df[column_name].apply(lambda text: ' '.join([stem_word_hunspell(word) for word in text.split()]))\n",
    "    return df"
   ]
  },
  {
   "cell_type": "code",
   "execution_count": 8,
   "id": "ae3e802e",
   "metadata": {},
   "outputs": [],
   "source": [
    "def preprocessing(df, column_name):  \n",
    "    df = remove_mentions_hashtags(df, column_name)\n",
    "    df = remove_hyperlink(df, column_name)\n",
    "    df = remove_punctuation(df, column_name)\n",
    "    df = case_folding(df, column_name)\n",
    "    df = remove_stopwords(df, column_name)\n",
    "    df = remove_redundant_whitespace(df, column_name)\n",
    "    df = stemming(df, column_name)\n",
    "    \n",
    "    return df[column_name]"
   ]
  },
  {
   "cell_type": "code",
   "execution_count": 9,
   "id": "1759f3ca",
   "metadata": {},
   "outputs": [],
   "source": [
    "df['tweet'] = preprocessing(df, 'tweet')"
   ]
  },
  {
   "cell_type": "code",
   "execution_count": 10,
   "id": "41153d17",
   "metadata": {},
   "outputs": [],
   "source": [
    "filename = 'preprocessed_10k.xlsx'   \n",
    "sheetname = '10k'     \n",
    "df.to_excel(filename, sheet_name=sheetname, index=False)"
   ]
  }
 ],
 "metadata": {
  "kernelspec": {
   "display_name": "Python 3 (ipykernel)",
   "language": "python",
   "name": "python3"
  },
  "language_info": {
   "codemirror_mode": {
    "name": "ipython",
    "version": 3
   },
   "file_extension": ".py",
   "mimetype": "text/x-python",
   "name": "python",
   "nbconvert_exporter": "python",
   "pygments_lexer": "ipython3",
   "version": "3.9.13"
  }
 },
 "nbformat": 4,
 "nbformat_minor": 5
}
